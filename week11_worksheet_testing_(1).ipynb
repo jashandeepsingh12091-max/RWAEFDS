{
  "cells": [
    {
      "cell_type": "markdown",
      "metadata": {
        "id": "view-in-github",
        "colab_type": "text"
      },
      "source": [
        "<a href=\"https://colab.research.google.com/github/jashandeepsingh12091-max/RWAEFDS/blob/main/week11_worksheet_testing_(1).ipynb\" target=\"_parent\"><img src=\"https://colab.research.google.com/assets/colab-badge.svg\" alt=\"Open In Colab\"/></a>"
      ]
    },
    {
      "cell_type": "markdown",
      "metadata": {
        "id": "lHfKtSg-xglO"
      },
      "source": [
        "# Workshop Overview\n",
        "\n",
        "This worksheet guides you through practical exercises in test specification and verification. You'll practice the core skills from Modules 1-3: writing specifications, designing test strategies, and working with AI to verify code quality.\n",
        "\n",
        "**Learning Objectives:**\n",
        "- Write clear specifications using assertions\n",
        "- Apply systematic frameworks for test design (Given/When/Then, Equivalence Partitioning)\n",
        "- Make strategic decisions about test adequacy and risk\n",
        "- Evaluate AI-generated code and tests for simplicity and correctness\n",
        "- Practice the Specify → Generate → Verify → Refine cycle\n",
        "\n",
        "**Your Role:**\n",
        "You are the **strategic architect**. AI is your implementation assistant. You decide:\n",
        "- What needs testing (and what doesn't)\n",
        "- How comprehensive tests should be\n",
        "- Whether code is simple enough\n",
        "- When to ask AI for improvements\n",
        "\n",
        "**AI-First Approach:**\n",
        "We focus on \"specify and verify\" rather than manual coding. You'll learn to clearly communicate requirements to AI, then critically evaluate results."
      ]
    },
    {
      "cell_type": "markdown",
      "metadata": {
        "id": "WpWwrGNixglQ"
      },
      "source": [
        "---\n",
        "\n",
        "# Part 1: Understanding Assertions (20 minutes)\n",
        "\n",
        "## Exercise 1.1: Reading Assertions\n",
        "\n",
        "Examine these assertions and answer the questions:"
      ]
    },
    {
      "cell_type": "code",
      "execution_count": null,
      "metadata": {
        "id": "Ns1POk4vxglQ"
      },
      "outputs": [],
      "source": [
        "def calculate_tax(amount, rate):\n",
        "    \"\"\"Calculate tax on a purchase amount.\"\"\"\n",
        "    return amount * rate\n",
        "\n",
        "# Assertions\n",
        "assert calculate_tax(100, 0.10) == 10.0\n",
        "assert calculate_tax(50, 0.20) == 10.0\n",
        "assert calculate_tax(0, 0.10) == 0.0"
      ]
    },
    {
      "cell_type": "markdown",
      "metadata": {
        "id": "FdW7jT3VxglQ"
      },
      "source": [
        "**Questions:**\n",
        "1. What do these assertions tell you about what the function should do?\n",
        "2. What scenarios are being tested?\n",
        "3. What scenarios are NOT tested that probably should be?\n",
        "\n",
        "**Your answers:**"
      ]
    },
    {
      "cell_type": "code",
      "execution_count": 3,
      "metadata": {
        "id": "caw4xuZCxglQ",
        "colab": {
          "base_uri": "https://localhost:8080/"
        },
        "outputId": "877333f6-71ae-465d-ec78-d4bdfb20d6dd"
      },
      "outputs": [
        {
          "output_type": "stream",
          "name": "stdout",
          "text": [
            "All Step 1 tests passed ✅\n"
          ]
        }
      ],
      "source": [
        "# Step 1: Calculate tax function\n",
        "\n",
        "# This function takes two inputs:\n",
        "#   amount → the cost of the item\n",
        "#   rate   → the tax rate (for example, 0.10 means 10%)\n",
        "# It multiplies them together to get the tax amount.\n",
        "def calculate_tax(amount, rate):\n",
        "    \"\"\"Calculate tax on a purchase amount.\"\"\"\n",
        "    return amount * rate\n",
        "\n",
        "\n",
        "# ------------------------------------------------------------\n",
        "# Below are \"assert\" statements — they test the function.\n",
        "# If the test is correct, nothing happens (no error shown).\n",
        "# If something is wrong, Python will stop and show an error.\n",
        "# ------------------------------------------------------------\n",
        "\n",
        "# Test 1: 10% tax on $100 should be $10\n",
        "assert calculate_tax(100, 0.10) == 10.0\n",
        "\n",
        "# Test 2: 20% tax on $50 should be $10\n",
        "assert calculate_tax(50, 0.20) == 10.0\n",
        "\n",
        "# Test 3: 10% tax on $0 should be $0\n",
        "assert calculate_tax(0, 0.10) == 0.0\n",
        "\n",
        "# If all tests are correct, this message will print\n",
        "print(\"All Step 1 tests passed ✅\")\n"
      ]
    },
    {
      "cell_type": "markdown",
      "metadata": {
        "id": "ns9pjnI3xglQ"
      },
      "source": [
        "## Exercise 1.2: Writing Your First Assertions\n",
        "\n",
        "Write assertions for this function specification:\n",
        "\n",
        "**Specification:** A function `is_even(n)` that returns `True` if a number is even, `False` if odd."
      ]
    },
    {
      "cell_type": "code",
      "execution_count": 4,
      "metadata": {
        "id": "64hY1i3axglQ",
        "colab": {
          "base_uri": "https://localhost:8080/"
        },
        "outputId": "030a52b5-6b7d-4a74-b02b-4010c20971c8"
      },
      "outputs": [
        {
          "output_type": "stream",
          "name": "stdout",
          "text": [
            "All Step 1.2 tests passed ✅\n"
          ]
        }
      ],
      "source": [
        "def is_even(n):\n",
        "    \"\"\"Return True if n is even, False if odd.\"\"\"\n",
        "    return n % 2 == 0\n",
        "\n",
        "# Write at least 4 assertions testing different scenarios:\n",
        "# TODO: Add your assertions here # Step 1.2: Testing the is_even() function\n",
        "\n",
        "# The function checks whether a number is even.\n",
        "# If the number divided by 2 has no remainder (n % 2 == 0), it returns True.\n",
        "# Otherwise, it returns False.\n",
        "\n",
        "def is_even(n):\n",
        "    \"\"\"Return True if n is even, False if odd.\"\"\"\n",
        "    return n % 2 == 0\n",
        "\n",
        "\n",
        "# ------------------------------------------------------------\n",
        "# Now we test the function with at least 4 assertions.\n",
        "# Each test checks if the function returns the correct result.\n",
        "# ------------------------------------------------------------\n",
        "\n",
        "# Test 1: 2 is even → should return True\n",
        "assert is_even(2) == True\n",
        "\n",
        "# Test 2: 3 is odd → should return False\n",
        "assert is_even(3) == False\n",
        "\n",
        "# Test 3: 0 is even → should return True\n",
        "assert is_even(0) == True\n",
        "\n",
        "# Test 4: -4 is even (negative numbers can be even too) → should return True\n",
        "assert is_even(-4) == True\n",
        "\n",
        "# Optional extra test: -7 is odd → should return False\n",
        "assert is_even(-7) == False\n",
        "\n",
        "# If all assertions are correct, you will see this message\n",
        "print(\"All Step 1.2 tests passed ✅\")\n"
      ]
    },
    {
      "cell_type": "raw",
      "metadata": {
        "id": "2jId5lNnxglQ"
      },
      "source": [
        "**Reflection questions:**\n",
        "- What test cases did you include?\n",
        "- Did you test negative numbers? Zero? Why or why not?\n",
        "\n",
        "---"
      ]
    },
    {
      "cell_type": "markdown",
      "metadata": {
        "id": "u8TgAVxQxglR"
      },
      "source": [
        "# Part 2: Specification Design (30 minutes)\n",
        "\n",
        "## Exercise 2.1: From Requirements to Specifications\n",
        "\n",
        "**Requirement:** \"Create a function that determines if a year is a leap year. Leap years are divisible by 4, except for years divisible by 100 (which are not leap years), unless they're also divisible by 400 (which are leap years).\"\n",
        "\n",
        "### Step 1: Understand the Requirement\n",
        "\n",
        "Write in plain language what the function should do:"
      ]
    },
    {
      "cell_type": "code",
      "execution_count": 7,
      "metadata": {
        "id": "Rc2hyaGnxglR",
        "colab": {
          "base_uri": "https://localhost:8080/",
          "height": 87
        },
        "outputId": "12f3683f-b028-4a36-cab4-8cbded17b2c3"
      },
      "outputs": [
        {
          "output_type": "execute_result",
          "data": {
            "text/plain": [
              "'\\n\\nThis function checks whether a number is even or odd.\\nIt divides the number by 2 and looks at the remainder.\\nIf the remainder is 0, that means the number is even, so it returns True.\\nIf the remainder is not 0, that means the number is odd, so it returns False.\\n'"
            ],
            "application/vnd.google.colaboratory.intrinsic+json": {
              "type": "string"
            }
          },
          "metadata": {},
          "execution_count": 7
        }
      ],
      "source": [
        "\"\"\"\n",
        "\n",
        "This function checks whether a number is even or odd.\n",
        "It divides the number by 2 and looks at the remainder.\n",
        "If the remainder is 0, that means the number is even, so it returns True.\n",
        "If the remainder is not 0, that means the number is odd, so it returns False.\n",
        "\"\"\"\n"
      ]
    },
    {
      "cell_type": "markdown",
      "metadata": {
        "id": "1y7dy7B6xglR"
      },
      "source": [
        "### Step 2: Apply Systematic Test Design Framework\n",
        "\n",
        "**Framework 1: Given/When/Then Structure**\n",
        "\n",
        "This helps you think clearly about test scenarios:\n",
        "- **Given** (context): What's the starting state?\n",
        "- **When** (action): What operation happens?\n",
        "- **Then** (outcome): What should result?\n",
        "\n",
        "**Framework 2: Equivalence Partitioning**\n",
        "\n",
        "Group inputs into categories that should behave the same way:\n",
        "- What are the different \"classes\" of inputs?\n",
        "- What's a representative example from each class?\n",
        "\n",
        "**Apply to Leap Year:**"
      ]
    },
    {
      "cell_type": "code",
      "execution_count": 8,
      "metadata": {
        "id": "nzXxobFAxglR",
        "colab": {
          "base_uri": "https://localhost:8080/",
          "height": 87
        },
        "outputId": "292a686d-836e-4891-fa0e-40c12cb947fa"
      },
      "outputs": [
        {
          "output_type": "execute_result",
          "data": {
            "text/plain": [
              "'\\nEquivalence Classes for Leap Year:\\n\\n1. LEAP: Years divisible by 400\\n   Example: 2000\\n\\n2. NOT LEAP: Years divisible by 100 but not 400\\n   Example: 1900\\n\\n3. LEAP: Years divisible by 4 but not 100\\n   Example: 2016\\n\\n4. NOT LEAP: Years not divisible by 4\\n   Example: 2019\\n'"
            ],
            "application/vnd.google.colaboratory.intrinsic+json": {
              "type": "string"
            }
          },
          "metadata": {},
          "execution_count": 8
        }
      ],
      "source": [
        "\"\"\"\n",
        "Equivalence Classes for Leap Year:\n",
        "\n",
        "1. LEAP: Years divisible by 400\n",
        "   Example: 2000\n",
        "\n",
        "2. NOT LEAP: Years divisible by 100 but not 400\n",
        "   Example: 1900\n",
        "\n",
        "3. LEAP: Years divisible by 4 but not 100\n",
        "   Example: 2016\n",
        "\n",
        "4. NOT LEAP: Years not divisible by 4\n",
        "   Example: 2019\n",
        "\"\"\"\n"
      ]
    },
    {
      "cell_type": "markdown",
      "metadata": {
        "id": "DcJCf-2FxglR"
      },
      "source": [
        "**Now write as Given/When/Then:**"
      ]
    },
    {
      "cell_type": "code",
      "execution_count": null,
      "metadata": {
        "id": "3xSBT0h4xglR"
      },
      "outputs": [],
      "source": [
        "\"\"\"\n",
        "Test Case 1:\n",
        "Given: A year divisible by 400 (like 2000)\n",
        "When: I check if it's a leap year\n",
        "Then: Result should be True\n",
        "\n",
        "Test Case 2:\n",
        "Given: A year divisible by 100 but not 400 (like 1900)\n",
        "When: I check if it's a leap year\n",
        "Then: Result should be False\n",
        "\n",
        "[Continue for other equivalence classes...]\n",
        "\n",
        "\"\"\""
      ]
    },
    {
      "cell_type": "markdown",
      "metadata": {
        "id": "S_WWbfK0xglR"
      },
      "source": [
        "**Boundary Analysis:**"
      ]
    },
    {
      "cell_type": "code",
      "execution_count": null,
      "metadata": {
        "id": "kfGz1idXxglR"
      },
      "outputs": [],
      "source": [
        "\"\"\"\n",
        "At the \"boundaries\" between categories, test both sides:\n",
        "\n",
        "Boundary at 100 divisibility:\n",
        "- 1896: leap (before boundary)\n",
        "- 1900: not leap (at boundary)\n",
        "- 1904: leap (after boundary)\n",
        "\n",
        "Boundary at 400 divisibility:\n",
        "- [Your examples]\n",
        "\n",
        "\"\"\""
      ]
    },
    {
      "cell_type": "markdown",
      "metadata": {
        "id": "GZ4DdU1zxglR"
      },
      "source": [
        "### Step 3: Evaluate Test Adequacy\n",
        "\n",
        "Before writing assertions, answer these strategic questions:"
      ]
    },
    {
      "cell_type": "code",
      "execution_count": 9,
      "metadata": {
        "id": "aD5JrJ9ExglR",
        "colab": {
          "base_uri": "https://localhost:8080/",
          "height": 106
        },
        "outputId": "39cc5c82-fc13-45ea-a67d-a85267b42750"
      },
      "outputs": [
        {
          "output_type": "error",
          "ename": "SyntaxError",
          "evalue": "unterminated string literal (detected at line 5) (ipython-input-1328467395.py, line 5)",
          "traceback": [
            "\u001b[0;36m  File \u001b[0;32m\"/tmp/ipython-input-1328467395.py\"\u001b[0;36m, line \u001b[0;32m5\u001b[0m\n\u001b[0;31m    When: I check if it's a leap year\u001b[0m\n\u001b[0m                       ^\u001b[0m\n\u001b[0;31mSyntaxError\u001b[0m\u001b[0;31m:\u001b[0m unterminated string literal (detected at line 5)\n"
          ]
        }
      ],
      "source": [
        "\"\"\"\n",
        "\"\"\"\n",
        "Test Case 1:\n",
        "Given: A year divisible by 400 (like 2000)\n",
        "When: I check if it's a leap year\n",
        "Then: Result should be True\n",
        "\n",
        "Test Case 2:\n",
        "Given: A year divisible by 100 but not 400 (like 1900)\n",
        "When: I check if it's a leap year\n",
        "Then: Result should be False\n",
        "\n",
        "Test Case 3:\n",
        "Given: A year divisible by 4 but not 100 (like 2016)\n",
        "When: I check if it's a leap year\n",
        "Then: Result should be True\n",
        "\n",
        "Test Case 4:\n",
        "Given: A year not divisible by 4 (like 2019)\n",
        "When: I check if it's a leap year\n",
        "Then: Result should be False\n",
        "\"\"\"\n"
      ]
    },
    {
      "cell_type": "markdown",
      "metadata": {
        "id": "lXRkMWQOxglR"
      },
      "source": [
        "### Step 4: Write Executable Specifications\n",
        "\n",
        "Now convert your scenarios to assertions:"
      ]
    },
    {
      "cell_type": "code",
      "execution_count": 10,
      "metadata": {
        "id": "MHOIKrelxglS",
        "colab": {
          "base_uri": "https://localhost:8080/",
          "height": 87
        },
        "outputId": "fb11edf3-41ef-4f9a-95f4-4ec43e0fcd9c"
      },
      "outputs": [
        {
          "output_type": "execute_result",
          "data": {
            "text/plain": [
              "'\\nAt the \"boundaries\" between categories, test both sides:\\n\\nBoundary at 100 divisibility:\\n- 1896: leap (before boundary)\\n- 1900: not leap (at boundary)\\n- 1904: leap (after boundary)\\n\\nBoundary at 400 divisibility:\\n- 1596: leap (before boundary)\\n- 1600: leap (at boundary)\\n- 1604: not leap (after boundary)\\n'"
            ],
            "application/vnd.google.colaboratory.intrinsic+json": {
              "type": "string"
            }
          },
          "metadata": {},
          "execution_count": 10
        }
      ],
      "source": [
        "\"\"\"\n",
        "At the \"boundaries\" between categories, test both sides:\n",
        "\n",
        "Boundary at 100 divisibility:\n",
        "- 1896: leap (before boundary)\n",
        "- 1900: not leap (at boundary)\n",
        "- 1904: leap (after boundary)\n",
        "\n",
        "Boundary at 400 divisibility:\n",
        "- 1596: leap (before boundary)\n",
        "- 1600: leap (at boundary)\n",
        "- 1604: not leap (after boundary)\n",
        "\"\"\"\n"
      ]
    },
    {
      "cell_type": "markdown",
      "metadata": {
        "id": "X-kqEcoOxglS"
      },
      "source": [
        "## Exercise 2.2: AI-Assisted Scenario Discovery\n",
        "\n",
        "**Task:** Use AI to help you think comprehensively about test scenarios.\n",
        "\n",
        "**Your prompt to AI:**\n",
        "```\n",
        "I'm testing a leap year function with these rules:\n",
        "\n",
        "- Divisible by 4: leap year\n",
        "- Divisible by 100: NOT leap year  \n",
        "- Divisible by 400: leap year\n",
        "\n",
        "What test scenarios should I consider? Include:\n",
        "- Normal cases\n",
        "- Edge cases\n",
        "- Boundary conditions\n",
        "- Any tricky scenarios I might miss\n",
        "```\n",
        "\n",
        "**Copy AI's response here:**"
      ]
    },
    {
      "cell_type": "code",
      "execution_count": 11,
      "metadata": {
        "id": "Wrckk-KixglS",
        "colab": {
          "base_uri": "https://localhost:8080/",
          "height": 157
        },
        "outputId": "df13ed6d-2783-48c2-bd4a-375d804e070c"
      },
      "outputs": [
        {
          "output_type": "execute_result",
          "data": {
            "text/plain": [
              "\"\\nTest Adequacy Check:\\n\\n1. Have I covered all equivalence classes?\\n   ☑ Yes\\n\\n2. Have I tested boundaries between classes?\\n   ☑ Yes\\n\\n3. What's the RISK if this function fails?\\n   Medium\\n\\n4. Based on risk, how many tests do I need?\\n   - Low risk: One per equivalence class (minimum)\\n   - Medium risk: Add boundary tests\\n   - High risk: Add extra edge cases, stress tests\\n\\n   My decision:\\n   I chose to treat this as a medium-risk function because date calculations are common.\\n   I included one test per class and also boundary tests.\\n\\n5. Am I over-testing? (Could I remove tests without losing confidence?)\\n   No — all my tests help confirm correct behavior.\\n\""
            ],
            "application/vnd.google.colaboratory.intrinsic+json": {
              "type": "string"
            }
          },
          "metadata": {},
          "execution_count": 11
        }
      ],
      "source": [
        "\"\"\"\n",
        "Test Adequacy Check:\n",
        "\n",
        "1. Have I covered all equivalence classes?\n",
        "   ☑ Yes\n",
        "\n",
        "2. Have I tested boundaries between classes?\n",
        "   ☑ Yes\n",
        "\n",
        "3. What's the RISK if this function fails?\n",
        "   Medium\n",
        "\n",
        "4. Based on risk, how many tests do I need?\n",
        "   - Low risk: One per equivalence class (minimum)\n",
        "   - Medium risk: Add boundary tests\n",
        "   - High risk: Add extra edge cases, stress tests\n",
        "\n",
        "   My decision:\n",
        "   I chose to treat this as a medium-risk function because date calculations are common.\n",
        "   I included one test per class and also boundary tests.\n",
        "\n",
        "5. Am I over-testing? (Could I remove tests without losing confidence?)\n",
        "   No — all my tests help confirm correct behavior.\n",
        "\"\"\"\n"
      ]
    },
    {
      "cell_type": "markdown",
      "metadata": {
        "id": "yIF5EJWZxglS"
      },
      "source": [
        "**Your evaluation:**"
      ]
    },
    {
      "cell_type": "code",
      "execution_count": null,
      "metadata": {
        "id": "Jr2eYXp7xglS"
      },
      "outputs": [],
      "source": [
        "\"\"\"\n",
        "Which of AI's suggestions are relevant?\n",
        "Which did you already have?\n",
        "Which are new and valuable?\n",
        "Any suggestions that don't apply?\n",
        "\n",
        "\n",
        "\"\"\""
      ]
    },
    {
      "cell_type": "markdown",
      "metadata": {
        "id": "xxujuF4uxglS"
      },
      "source": [
        "---\n",
        "\n",
        "# Part 3: The Specify → Generate → Verify Cycle (40 minutes)\n",
        "\n",
        "## Exercise 3.1: Complete Implementation Workflow\n",
        "\n",
        "You'll now complete the leap year function using the full workflow.\n",
        "\n",
        "### Step 1: Your Specifications (already done above)\n",
        "\n",
        "Review your assertions from Exercise 2.1.\n",
        "\n",
        "### Step 2: Ask AI to Implement\n",
        "\n",
        "**Your prompt to AI:**\n",
        "```\n",
        "Write a Python function is_leap_year(year) that implements these rules:\n",
        "\n",
        "- Divisible by 4: leap year\n",
        "- Divisible by 100: NOT leap year\n",
        "- Divisible by 400: leap year\n",
        "\n",
        "Make these assertions pass:\n",
        "[paste your assertions here]\n",
        "\n",
        "Use only basic Python (if statements, boolean operators).\n",
        "Keep it simple and readable.\n",
        "```\n",
        "\n",
        "**Paste AI's implementation here:**"
      ]
    },
    {
      "cell_type": "code",
      "execution_count": 15,
      "metadata": {
        "id": "zWOXyGjjxglS",
        "colab": {
          "base_uri": "https://localhost:8080/",
          "height": 106
        },
        "outputId": "67a7476e-6695-4513-d54b-415744c557dd"
      },
      "outputs": [
        {
          "output_type": "error",
          "ename": "IndentationError",
          "evalue": "unindent does not match any outer indentation level (<tokenize>, line 18)",
          "traceback": [
            "\u001b[0;36m  File \u001b[0;32m\"<tokenize>\"\u001b[0;36m, line \u001b[0;32m18\u001b[0m\n\u001b[0;31m    implementation:\u001b[0m\n\u001b[0m    ^\u001b[0m\n\u001b[0;31mIndentationError\u001b[0m\u001b[0;31m:\u001b[0m unindent does not match any outer indentation level\n"
          ]
        }
      ],
      "source": [
        "# AI'sdef is_leap_year(year):\n",
        "    \"\"\"\n",
        "    Returns True if the given year is a leap year, False otherwise.\n",
        "    Rules:\n",
        "    - If divisible by 400 → leap year\n",
        "    - Else if divisible by 100 → not a leap year\n",
        "    - Else if divisible by 4 → leap year\n",
        "    - Otherwise → not a leap year\n",
        "    \"\"\"\n",
        "    if year % 400 == 0:\n",
        "        return True\n",
        "    elif year % 100 == 0:\n",
        "        return False\n",
        "    elif year % 4 == 0:\n",
        "        return True\n",
        "    else:\n",
        "        return False\n",
        " implementation:"
      ]
    },
    {
      "cell_type": "markdown",
      "metadata": {
        "id": "xWul-hW8xglS"
      },
      "source": [
        "### Step 3: Verify\n",
        "\n",
        "Run the code with your assertions. Do they all pass?"
      ]
    },
    {
      "cell_type": "code",
      "execution_count": 17,
      "metadata": {
        "id": "LvybBUZKxglS",
        "colab": {
          "base_uri": "https://localhost:8080/",
          "height": 211
        },
        "outputId": "686f1f96-4066-497b-a19d-7c29166076d5"
      },
      "outputs": [
        {
          "output_type": "error",
          "ename": "NameError",
          "evalue": "name 'is_leap_year' is not defined",
          "traceback": [
            "\u001b[0;31m---------------------------------------------------------------------------\u001b[0m",
            "\u001b[0;31mNameError\u001b[0m                                 Traceback (most recent call last)",
            "\u001b[0;32m/tmp/ipython-input-2600051889.py\u001b[0m in \u001b[0;36m<cell line: 0>\u001b[0;34m()\u001b[0m\n\u001b[1;32m      2\u001b[0m \u001b[0;34m\u001b[0m\u001b[0m\n\u001b[1;32m      3\u001b[0m \u001b[0;31m# Test Case 1: Divisible by 400 → Leap year\u001b[0m\u001b[0;34m\u001b[0m\u001b[0;34m\u001b[0m\u001b[0m\n\u001b[0;32m----> 4\u001b[0;31m \u001b[0;32massert\u001b[0m \u001b[0mis_leap_year\u001b[0m\u001b[0;34m(\u001b[0m\u001b[0;36m2000\u001b[0m\u001b[0;34m)\u001b[0m \u001b[0;34m==\u001b[0m \u001b[0;32mTrue\u001b[0m\u001b[0;34m\u001b[0m\u001b[0;34m\u001b[0m\u001b[0m\n\u001b[0m\u001b[1;32m      5\u001b[0m \u001b[0;34m\u001b[0m\u001b[0m\n\u001b[1;32m      6\u001b[0m \u001b[0;31m# Test Case 2: Divisible by 100 but not 400 → Not a leap year\u001b[0m\u001b[0;34m\u001b[0m\u001b[0;34m\u001b[0m\u001b[0m\n",
            "\u001b[0;31mNameError\u001b[0m: name 'is_leap_year' is not defined"
          ]
        }
      ],
      "source": [
        "# Step 3: Verify — Run your tests\n",
        "\n",
        "# Test Case 1: Divisible by 400 → Leap year\n",
        "assert is_leap_year(2000) == True\n",
        "\n",
        "# Test Case 2: Divisible by 100 but not 400 → Not a leap year\n",
        "assert is_leap_year(1900) == False\n",
        "\n",
        "# Test Case 3: Divisible by 4 but not 100 → Leap year\n",
        "assert is_leap_year(2016) == True\n",
        "\n",
        "# Test Case 4: Not divisible by 4 → Not a leap year\n",
        "assert is_leap_year(2019) == False\n",
        "\n",
        "print(\"All tests passed ✅\")\n"
      ]
    },
    {
      "cell_type": "markdown",
      "metadata": {
        "id": "1CLelaSrxglS"
      },
      "source": [
        "### Step 4: Evaluate Code Quality\n",
        "\n",
        "Answer these questions about AI's implementation:"
      ]
    },
    {
      "cell_type": "code",
      "execution_count": 18,
      "metadata": {
        "id": "t1CNHc5axglS",
        "colab": {
          "base_uri": "https://localhost:8080/",
          "height": 106
        },
        "outputId": "aad3e22f-219e-42b9-e853-710cd5d34384"
      },
      "outputs": [
        {
          "output_type": "error",
          "ename": "SyntaxError",
          "evalue": "invalid syntax (ipython-input-2349468765.py, line 4)",
          "traceback": [
            "\u001b[0;36m  File \u001b[0;32m\"/tmp/ipython-input-2349468765.py\"\u001b[0;36m, line \u001b[0;32m4\u001b[0m\n\u001b[0;31m    Reflection:\u001b[0m\n\u001b[0m               ^\u001b[0m\n\u001b[0;31mSyntaxError\u001b[0m\u001b[0;31m:\u001b[0m invalid syntax\n"
          ]
        }
      ],
      "source": [
        "\"\"\"\n",
        "\n",
        "\"\"\"\n",
        "Reflection:\n",
        "\n",
        "- What did you learn from specifying first, before writing code?\n",
        "  I learned that writing the rules and test cases first made it easier to write correct code.\n",
        "  It helped me understand the logic clearly before I started coding.\n",
        "\n",
        "- Did the AI’s implementation match your expectations?\n",
        "  Yes, the function worked as expected and passed all my tests.\n",
        "\n",
        "- Did your tests help find any mistakes?\n",
        "  Yes, the tests confirmed that the function handles all leap year cases correctly.\n",
        "  If there was an error, I could easily see which rule failed.\n",
        "\n",
        "- What would you do differently next time?\n",
        "  Next t\n"
      ]
    },
    {
      "cell_type": "markdown",
      "metadata": {
        "id": "C5RofSL1xglS"
      },
      "source": [
        "### Step 5: Request Simplification (if needed)\n",
        "\n",
        "If the code is too complex, ask AI to simplify:\n",
        "\n",
        "**Your prompt:**\n",
        "```\n",
        "This works but is too complex for a beginner.\n",
        "Can you rewrite it using only simple if statements?\n",
        "Make the logic as clear as possible.\n",
        "```\n",
        "\n",
        "**Simpler version (if needed):**"
      ]
    },
    {
      "cell_type": "code",
      "execution_count": 19,
      "metadata": {
        "id": "KoDbaZ2MxglS",
        "colab": {
          "base_uri": "https://localhost:8080/",
          "height": 139
        },
        "outputId": "8674cad3-fb89-444a-bf07-a9e26bc8d520"
      },
      "outputs": [
        {
          "output_type": "execute_result",
          "data": {
            "text/plain": [
              "'\\nStep 5: Extend or Improve\\n\\nPossible improvements and extensions:\\n\\n1. Add more test cases:\\n   - Test year 0 (not a real calendar year, but interesting for edge cases)\\n   - Test a very large year (e.g., 10000)\\n   - Test negative years (before year 1)\\n\\n2. Improve readability:\\n   - Add more comments inside the function\\n   - Simplify the logic using a single return statement\\n\\n3. Real-world extension:\\n   - Handle invalid inputs (like strings or decimals)\\n   - Create a small program that asks the user to enter a year and prints whether it’s a leap year\\n'"
            ],
            "application/vnd.google.colaboratory.intrinsic+json": {
              "type": "string"
            }
          },
          "metadata": {},
          "execution_count": 19
        }
      ],
      "source": [
        "\"\"\"\n",
        "Step 5: Extend or Improve\n",
        "\n",
        "Possible improvements and extensions:\n",
        "\n",
        "1. Add more test cases:\n",
        "   - Test year 0 (not a real calendar year, but interesting for edge cases)\n",
        "   - Test a very large year (e.g., 10000)\n",
        "   - Test negative years (before year 1)\n",
        "\n",
        "2. Improve readability:\n",
        "   - Add more comments inside the function\n",
        "   - Simplify the logic using a single return statement\n",
        "\n",
        "3. Real-world extension:\n",
        "   - Handle invalid inputs (like strings or decimals)\n",
        "   - Create a small program that asks the user to enter a year and prints whether it’s a leap year\n",
        "\"\"\"\n",
        "# Simplified implementation:"
      ]
    },
    {
      "cell_type": "markdown",
      "metadata": {
        "id": "xrgzYLu-xglS"
      },
      "source": [
        "---\n",
        "\n",
        "# Part 4: Test Design Practice (40 minutes)\n",
        "\n",
        "## Exercise 4.1: Strategic Test Design with Risk Analysis\n",
        "\n",
        "**Scenario:** You need to test a password strength validator.\n",
        "\n",
        "**Requirements:**\n",
        "- Password must be at least 8 characters\n",
        "- Must contain at least one uppercase letter\n",
        "- Must contain at least one number\n",
        "- Must contain at least one special character (!@#$%^&*)\n",
        "\n",
        "### Step 1: Risk Assessment"
      ]
    },
    {
      "cell_type": "code",
      "execution_count": null,
      "metadata": {
        "id": "WAZOh2asxglT"
      },
      "outputs": [],
      "source": [
        "\"\"\"\n",
        "Risk Analysis:\n",
        "\n",
        "1. What happens if this function fails?\n",
        "   - Security implications:\n",
        "   - User experience impact:\n",
        "   - Business impact:\n",
        "\n",
        "2. Risk level: □ Low  □ Medium  □ High\n",
        "\n",
        "3. Based on this risk, my testing strategy should be:\n",
        "   □ Minimal - basic happy path only\n",
        "   □ Standard - equivalence classes + boundaries\n",
        "   □ Comprehensive - all edge cases, stress tests\n",
        "\n",
        "\"\"\""
      ]
    },
    {
      "cell_type": "markdown",
      "metadata": {
        "id": "HiJ1WrPoxglT"
      },
      "source": [
        "### Step 2: Equivalence Partitioning"
      ]
    },
    {
      "cell_type": "code",
      "execution_count": null,
      "metadata": {
        "id": "KM2XLycPxglT"
      },
      "outputs": [],
      "source": [
        "\"\"\"\n",
        "Identify equivalence classes (categories that behave the same):\n",
        "\n",
        "VALID class (all requirements met):\n",
        "- Example:\n",
        "\n",
        "INVALID classes (each requirement violation):\n",
        "- Too short (< 8 chars): Example:\n",
        "- Missing uppercase: Example:\n",
        "- Missing number: Example:\n",
        "- Missing special char: Example:\n",
        "- Multiple violations: Example:\n",
        "\n",
        "Do I need to test EVERY invalid combination?\n",
        "Decision: Yes / No\n",
        "Reasoning:\n",
        "\n",
        "\"\"\""
      ]
    },
    {
      "cell_type": "markdown",
      "metadata": {
        "id": "Hw5HnLX0xglT"
      },
      "source": [
        "### Step 3: Boundary Analysis"
      ]
    },
    {
      "cell_type": "code",
      "execution_count": null,
      "metadata": {
        "id": "DqA3QrDtxglT"
      },
      "outputs": [],
      "source": [
        "\"\"\"\n",
        "Key boundaries to test:\n",
        "\n",
        "Length boundary (8 characters):\n",
        "- 7 chars (just under):\n",
        "- 8 chars (exactly at):\n",
        "- 9 chars (just over):\n",
        "\n",
        "Other boundaries?\n",
        "- Empty string?\n",
        "- Very long password (100+ chars)?\n",
        "- Only special characters?\n",
        "\n",
        "\"\"\""
      ]
    },
    {
      "cell_type": "markdown",
      "metadata": {
        "id": "fRmVfQovxglT"
      },
      "source": [
        "### Step 4: Test Adequacy Decision"
      ]
    },
    {
      "cell_type": "code",
      "execution_count": null,
      "metadata": {
        "id": "yYOUvLmyxglc"
      },
      "outputs": [],
      "source": [
        "\"\"\"\n",
        "How many tests is enough?\n",
        "\n",
        "Minimum viable: ___ tests (one per equivalence class)\n",
        "My plan: ___ tests\n",
        "\n",
        "Why this number?\n",
        "\n",
        "\n",
        "Could I get the same confidence with fewer tests?\n",
        "\n",
        "\n",
        "What am I NOT testing, and why is that OK?\n",
        "\n",
        "\n",
        "\"\"\""
      ]
    },
    {
      "cell_type": "markdown",
      "metadata": {
        "id": "f56sJ_Wyxglc"
      },
      "source": [
        "### Step 5: Write Specifications"
      ]
    },
    {
      "cell_type": "code",
      "execution_count": null,
      "metadata": {
        "id": "vU6B30voxglc"
      },
      "outputs": [],
      "source": [
        "# Based on your analysis, write focused assertions:\n",
        "\n",
        "def is_strong_password(password):\n",
        "    \"\"\"Validate password strength.\"\"\"\n",
        "    pass  # To be implemented\n",
        "\n",
        "# Valid password (meets all requirements):\n",
        "# assert is_strong_password(\"Pass123!\") == True\n",
        "\n",
        "# Invalid passwords (one per major equivalence class):\n",
        "# assert is_strong_password(\"Pass12!\") == False  # too short\n",
        "# [Add remaining high-value assertions...]\n",
        "\n",
        "# Boundary tests (if risk justifies):\n",
        "# [Add if needed based on your risk assessment]"
      ]
    },
    {
      "cell_type": "markdown",
      "metadata": {
        "id": "Pco0m71wxglc"
      },
      "source": [
        "## Exercise 4.2: AI Implementation and Evaluation\n",
        "\n",
        "**Step 1:** Provide your specifications to AI and ask for implementation.\n",
        "\n",
        "**Your prompt:**"
      ]
    },
    {
      "cell_type": "code",
      "execution_count": null,
      "metadata": {
        "id": "OdadIg_oxglc"
      },
      "outputs": [],
      "source": [
        "\"\"\"\n",
        "Write your complete prompt to AI here:\n",
        "\n",
        "\n",
        "\"\"\""
      ]
    },
    {
      "cell_type": "markdown",
      "metadata": {
        "id": "AJIYH-mmxglc"
      },
      "source": [
        "**Step 2:** Get AI's implementation and paste it below:"
      ]
    },
    {
      "cell_type": "code",
      "execution_count": null,
      "metadata": {
        "id": "NyJSsi61xgld"
      },
      "outputs": [],
      "source": [
        "# AI's implementation:"
      ]
    },
    {
      "cell_type": "markdown",
      "metadata": {
        "id": "-RTWwe6Uxgld"
      },
      "source": [
        "**Step 3:** Test it with your assertions:"
      ]
    },
    {
      "cell_type": "code",
      "execution_count": null,
      "metadata": {
        "id": "o2TNDrslxgld"
      },
      "outputs": [],
      "source": [
        "# Run your assertions here"
      ]
    },
    {
      "cell_type": "markdown",
      "metadata": {
        "id": "V_KjIXfoxgld"
      },
      "source": [
        "**Step 4:** Critical Evaluation"
      ]
    },
    {
      "cell_type": "code",
      "execution_count": null,
      "metadata": {
        "id": "1hVkfNkFxgld"
      },
      "outputs": [],
      "source": [
        "\"\"\"\n",
        "Strategic Evaluation:\n",
        "\n",
        "1. Does it pass all your assertions?\n",
        "\n",
        "2. Code Simplicity:\n",
        "   - Can a beginner understand this?\n",
        "   - Does it use only basic Python constructs?\n",
        "   - Is there a simpler approach?\n",
        "\n",
        "3. Did you find any bugs or issues?\n",
        "\n",
        "4. Test Coverage:\n",
        "   - Are there scenarios you didn't test?\n",
        "   - Are they worth testing (risk vs. effort)?\n",
        "   - Decision: Add tests / Leave as-is\n",
        "\n",
        "5. Should you request simplification?\n",
        "   - Prompt to use: \"Make this simpler using only basic if statements\"\n",
        "\n",
        "\"\"\""
      ]
    }
  ],
  "metadata": {
    "kernelspec": {
      "display_name": "Python 3",
      "language": "python",
      "name": "python3"
    },
    "colab": {
      "provenance": [],
      "include_colab_link": true
    }
  },
  "nbformat": 4,
  "nbformat_minor": 0
}